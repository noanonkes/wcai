{
 "cells": [
  {
   "cell_type": "markdown",
   "metadata": {},
   "source": [
    "# Practice with sum and product\n",
    "\n",
    "In this notebook, you will practice with implementing mathematical equations that contain $\\sum$ and $\\prod$ in Python. In scientific programming these symbols are a regular occurance and getting familiar with the way they should be interpreted and can be programmed is important."
   ]
  },
  {
   "cell_type": "markdown",
   "metadata": {},
   "source": [
    "## Sum\n",
    "\n",
    "The symbol $\\sum$ (sigma) is used to denote the sum of multiple terms. For example, the sum of squares of the values $1$ to $6$ can be written as:\n",
    "\n",
    "$$\\sum^6_{n \\ = \\ 1} \\ n^2$$\n",
    "\n",
    "Where:\n",
    "\n",
    "- $\\sum$ indicates that we will be taking the sum of a set of terms\n",
    "- ${n \\ = \\ 1}$ refers to the first value of $n$ \n",
    "- The $6$ above the $\\sum$ indicates that the final value of $n$ will be $6$ \n",
    "- $n^2$ is the term that will be filled in and summed\n",
    "\n",
    "<img src=\"sum.png\" width=200/>\n"
   ]
  },
  {
   "cell_type": "markdown",
   "metadata": {},
   "source": [
    "We can calculate $\\sum^6_{n \\ = \\ 1} n^2$ as follows:\n",
    "\n",
    "$$\n",
    "\\sum^6_{n \\ = \\ 1} n^2\n",
    "\\\\ \n",
    "= 1^2 + 2^2 + 3^2 + 4^2 + 5^2 + 6^2\n",
    "\\\\ \n",
    "= 1 + 4 + 9 + 16 + 25 + 36\n",
    "\\\\\n",
    "= 91\n",
    "$$\n",
    "\n",
    "With the help of the `**` operator we can a snippet of code that returns the result of the equation $\\sum^6_{n \\ = \\ 1}n^2$ in Python as follows:\n",
    "\n",
    "```Python\n",
    "total = 0\n",
    "for n in range(1, 6 + 1):\n",
    "    total += n ** 2\n",
    "print(total)\n",
    "```\n",
    "\n",
    "Notice that the number above the sum indicating the final value is *inclusive*, while for a Python loop using `range()` this value is *exclusive*. We've explicitly added $6 + 1$ to show this in the code above.\n",
    "\n",
    "## Parameters\n",
    "\n",
    "In mathematics and programming we often use letters for values that depend on what we are trying to calculate. We call these \"variable values\" *parameters*. If, for example, we want to define the sum of squares of all values from 1 to *any number*, we could express that with the following equation:\n",
    "\n",
    "$$\n",
    "\\sum^x_{n \\ = \\ 1} n^2\n",
    "$$\n",
    "\n",
    "In this equation, the parameter $x$ defines the number up to which we want to count. We could express this in our code as well with a parameter `x`:\n",
    "\n",
    "```Python\n",
    "total = 0\n",
    "for n in range(1, x + 1):\n",
    "    total += n ** 2\n",
    "print(total)\n",
    "```\n",
    "\n",
    "Note that we have not defined the value of `x`, so our program would not be able to run. If we want to reproduce the results from before, we should give it the value `6`:\n",
    "\n",
    "```Python\n",
    "x = 6\n",
    "total = 0\n",
    "for n in range(1, x + 1):\n",
    "    total += n ** 2\n",
    "print(total)\n",
    "```"
   ]
  },
  {
   "cell_type": "code",
   "execution_count": 1,
   "metadata": {},
   "outputs": [
    {
     "name": "stdout",
     "output_type": "stream",
     "text": [
      "91\n"
     ]
    }
   ],
   "source": [
    "x = 6\n",
    "total = 0\n",
    "for n in range(1, x + 1):\n",
    "    total += n ** 2\n",
    "print(total)"
   ]
  },
  {
   "cell_type": "markdown",
   "metadata": {},
   "source": [
    "## Exercises\n",
    "\n",
    "**In the exercises below, the values of the input parameters are not defined. Feel free to select a value for each parameter, and compare the outcome of your code with a manual calculation using the same value.**\n",
    "\n",
    "**Exercise 1** Write code with a parameter `x` which prints the result of the following equation:\n",
    "\n",
    " $$ x^2 + 4$$"
   ]
  },
  {
   "cell_type": "code",
   "execution_count": 2,
   "metadata": {},
   "outputs": [
    {
     "name": "stdout",
     "output_type": "stream",
     "text": [
      "40\n"
     ]
    }
   ],
   "source": [
    "# answer 1\n",
    "x = 6\n",
    "\n",
    "result = x ** 2 + 4\n",
    "\n",
    "print(result)"
   ]
  },
  {
   "cell_type": "markdown",
   "metadata": {},
   "source": [
    "**Exercise 2** Write code that accepts the parameters `x`, `a`, and `b` and returns the result of the following equation:\n",
    "\n",
    "$$\n",
    "x^3 + ab\n",
    "$$"
   ]
  },
  {
   "cell_type": "code",
   "execution_count": 3,
   "metadata": {},
   "outputs": [
    {
     "name": "stdout",
     "output_type": "stream",
     "text": [
      "222\n"
     ]
    }
   ],
   "source": [
    "# answer 2\n",
    "x = 6\n",
    "a = 2\n",
    "b = 3\n",
    "\n",
    "result = x ** 3 + a * b\n",
    "\n",
    "print(result)"
   ]
  },
  {
   "cell_type": "markdown",
   "metadata": {},
   "source": [
    "**Exercise 3** Write code that calculates the following sum:\n",
    "\n",
    "$$\n",
    "\\sum ^5_{i \\ = \\ 1} 4\n",
    "$$"
   ]
  },
  {
   "cell_type": "code",
   "execution_count": 4,
   "metadata": {},
   "outputs": [
    {
     "name": "stdout",
     "output_type": "stream",
     "text": [
      "20\n"
     ]
    }
   ],
   "source": [
    "# answer 3\n",
    "total = 0\n",
    "for i in range(1, 5 + 1):\n",
    "    total += 4\n",
    "print(total)"
   ]
  },
  {
   "cell_type": "markdown",
   "metadata": {},
   "source": [
    "**Exercise 4** Write code that calculates the following sum:\n",
    "\n",
    "$$\n",
    "\\sum ^5_{n \\ = \\ 1} 7n\n",
    "$$"
   ]
  },
  {
   "cell_type": "code",
   "execution_count": 5,
   "metadata": {},
   "outputs": [
    {
     "name": "stdout",
     "output_type": "stream",
     "text": [
      "105\n"
     ]
    }
   ],
   "source": [
    "# answer 4\n",
    "total = 0\n",
    "for n in range(1, 5 + 1):\n",
    "    total += 7 * n\n",
    "print(total)"
   ]
  },
  {
   "cell_type": "markdown",
   "metadata": {},
   "source": [
    "**Exercise 5** Write code that accepts the parameters `N` and `x` and calculates the following sum:\n",
    "$$\n",
    "\\sum ^N_{n \\ = \\ 4}\\ x + 6\n",
    "$$"
   ]
  },
  {
   "cell_type": "code",
   "execution_count": 6,
   "metadata": {},
   "outputs": [
    {
     "name": "stdout",
     "output_type": "stream",
     "text": [
      "28\n"
     ]
    }
   ],
   "source": [
    "# answer 5\n",
    "N = 7\n",
    "x = 1\n",
    "\n",
    "total = 0\n",
    "for n in range(4, N + 1):\n",
    "    total += x + 6\n",
    "print(total)"
   ]
  },
  {
   "cell_type": "markdown",
   "metadata": {},
   "source": [
    "### Sums in Machine Learning\n",
    "\n",
    "In Machine Learning you will often come across a slightly different sum equation, wherein variable values are taken from a list-like structure. These structures are actually named vectors, or matrices, but you will learn about those in a couple of weeks. For now, all that is important is that they function in much the same way as lists. An equation with a sum might look like this:\n",
    "\n",
    "$$ \\sum^N_i x_i $$\n",
    "\n",
    "Wherein $x$ is a list of length $N$, and $i$ is the index of an element in the list $x$. The equation above sums all elements in a list named $x$. _Note that the start value of $i$ is not given. When this is the case, you can assume the first value to be 1._\n",
    "\n",
    "The equivalent given a list of values named `x` in code looks as follows:\n",
    "\n",
    "```python\n",
    "x = [12, 5, 3, 27, 432]\n",
    "\n",
    "N = len(x)\n",
    "total = 0\n",
    "\n",
    "for i in range(N):\n",
    "    total += x[i]\n",
    "\n",
    "print(total)\n",
    "```\n",
    "\n",
    "_**A very important thing to note here, is that while indexing in maths generally starts at 1, indexing in Python starts with 0.**_ This is reflected in the code above, where the first value of `i` is `0`, and the last value `N - 1`, while the equation starts at $i=1$ and the value $N$ is inclusive.\n",
    "\n",
    "> In Machine Learning there are a couple of conventions for characters that are usually used in the same way. The capital `N` is one of these characters, which usually denotes an amount. When talking about the length of a list, or the number of samples in a dataset, use `N` as a parameter name."
   ]
  },
  {
   "cell_type": "markdown",
   "metadata": {},
   "source": [
    "**Exercise 6** _From this exercise onwards, we will no longer provide you with the parameters for the code._ Inspect the equation and determine which parameters are needed, then write code that calculates the following sum:\n",
    "$$\n",
    "\\frac{1}{N} \\sum^N_{b} x_b\n",
    "$$"
   ]
  },
  {
   "cell_type": "code",
   "execution_count": 7,
   "metadata": {},
   "outputs": [
    {
     "name": "stdout",
     "output_type": "stream",
     "text": [
      "3.5\n"
     ]
    }
   ],
   "source": [
    "# answer 6\n",
    "x = [1, 2, 3, 4, 5, 6]\n",
    "N = len(x)\n",
    "\n",
    "total = 0\n",
    "for b in range(N):\n",
    "    total += x[b]\n",
    "\n",
    "print(total / N)"
   ]
  },
  {
   "cell_type": "markdown",
   "metadata": {},
   "source": [
    "**Exercise 7** Write code that calculates the following sum:\n",
    "\n",
    "$$\n",
    "\\sum^N_{i}(x_i * y_i)\n",
    "$$"
   ]
  },
  {
   "cell_type": "code",
   "execution_count": 8,
   "metadata": {},
   "outputs": [
    {
     "name": "stdout",
     "output_type": "stream",
     "text": [
      "21\n"
     ]
    }
   ],
   "source": [
    "# answer 7\n",
    "x = [1, 2, 3, 4, 5, 6]\n",
    "y = [1, 1, 1, 1, 1, 1]\n",
    "N = len(x)\n",
    "\n",
    "total = 0\n",
    "for i in range(0, N):\n",
    "    total += x[i] * y[i]\n",
    "\n",
    "print(total)"
   ]
  },
  {
   "cell_type": "markdown",
   "metadata": {},
   "source": [
    "**Exercise 8** Write code that calculates the following sum:\n",
    "\n",
    "$$\n",
    "\\sum^N_{i}\\sum^N_{j}x_i + x_j\n",
    "$$"
   ]
  },
  {
   "cell_type": "code",
   "execution_count": 9,
   "metadata": {},
   "outputs": [
    {
     "name": "stdout",
     "output_type": "stream",
     "text": [
      "252\n"
     ]
    }
   ],
   "source": [
    "# answer 8\n",
    "x = [1, 2, 3, 4, 5, 6]\n",
    "N = len(x)\n",
    "\n",
    "total = 0\n",
    "for i in range(N):\n",
    "    for j in range(N):\n",
    "        total += x[i] + x[j]\n",
    "\n",
    "print(total)"
   ]
  },
  {
   "cell_type": "markdown",
   "metadata": {},
   "source": [
    "## Product\n",
    "\n",
    "The symbol $\\prod$ (pi) indicates repeated multiplication and refers to a product of multiple factors.\n",
    "\n",
    "The notation is quite similar to the previously discussed sigma notation, except that the pi notation describes a *factor* number instead of a term number. \n",
    "\n",
    "Let's look at an example:\n",
    "\n",
    "$$\n",
    "\\prod^6_{k \\ = \\ 3}2^k\n",
    "$$\n",
    "\n",
    "Where:\n",
    "\n",
    "- $\\prod$ indicates that we will be taking the product of a set of terms\n",
    "- ${k \\ = \\ 3}$ refers to the first value of $k$\n",
    "- The $6$ above the $\\prod$ indicates that the final value of $k$ will be $6$ \n",
    "- $2^k$ is the term that will be filled in and multiplied\n",
    "\n",
    "<img src=\"product.png\" width=200/>\n",
    "\n",
    "We can calculate $\\prod^6_{k \\ = \\ 3}2^k$ as follows:\n",
    "\n",
    "$$\n",
    "\\prod^6_{k \\ = \\ 3}2^k\n",
    "\\\\\n",
    "= (2^3)(2^4)(2^5)(2^6)\n",
    "\\\\\n",
    "= 262144\n",
    "$$\n",
    "\n",
    "In Python we could calculate $\\prod^6_{k \\ = \\ 3}2^k$ as follows:\n",
    "\n",
    "```Python\n",
    "total = 1\n",
    "for i in range(3, 6 + 1):\n",
    "    total *= 2 ** i   \n",
    "print(total)\n",
    "```\n",
    "\n",
    "Notice that we initialise `total` at 1. Do you understand why?"
   ]
  },
  {
   "cell_type": "markdown",
   "metadata": {},
   "source": [
    "**Exercise 9** Write code that calculates the following product:\n",
    "\n",
    "$$ \n",
    "\\prod^{10}_{k \\ = \\ 7} \n",
    "k\n",
    "$$"
   ]
  },
  {
   "cell_type": "code",
   "execution_count": 10,
   "metadata": {},
   "outputs": [
    {
     "name": "stdout",
     "output_type": "stream",
     "text": [
      "5040\n"
     ]
    }
   ],
   "source": [
    "# answer 9\n",
    "total = 1\n",
    "for k in range(7, 10 + 1):\n",
    "    total *= k\n",
    "print(total)"
   ]
  },
  {
   "cell_type": "markdown",
   "metadata": {},
   "source": [
    "**Exercise 10** Write code that calculates the following product:\n",
    "\n",
    "$$\n",
    "\\prod^N_{i}x_i\n",
    "$$"
   ]
  },
  {
   "cell_type": "code",
   "execution_count": 11,
   "metadata": {},
   "outputs": [
    {
     "name": "stdout",
     "output_type": "stream",
     "text": [
      "720\n"
     ]
    }
   ],
   "source": [
    "# answer 10\n",
    "x = [1, 2, 3, 4, 5, 6]\n",
    "N = len(x)\n",
    "\n",
    "total = 1\n",
    "for i in range(N):\n",
    "    total *= x[i]\n",
    "\n",
    "print(total)"
   ]
  },
  {
   "cell_type": "markdown",
   "metadata": {},
   "source": [
    "**Exercise 11** Write code that calculates the following product:\n",
    "\n",
    "$$\n",
    "\\prod^N_i(3c_i^2) + (3c_i^3) + (3c_i^4)\n",
    "$$\n",
    "\n",
    "**Extra challenge** Can you use a sigma to simplify this equation?"
   ]
  },
  {
   "cell_type": "code",
   "execution_count": 12,
   "metadata": {},
   "outputs": [
    {
     "name": "stdout",
     "output_type": "stream",
     "text": [
      "30181816461888\n"
     ]
    }
   ],
   "source": [
    "# answer 11\n",
    "c = [1, 2, 3, 4]\n",
    "N = len(c)\n",
    "\n",
    "total = 1\n",
    "for i in range(N):\n",
    "    total *= (3 * c[i]) ** 2 + (3 * c[i]) ** 3 + (3 * c[i]) ** 4\n",
    "\n",
    "print(total)"
   ]
  },
  {
   "cell_type": "markdown",
   "metadata": {},
   "source": [
    "**Exercise 12** Write code that calculates the product:\n",
    "\n",
    "$$\n",
    "(\\prod^{18}_{k \\ = \\ {15}}ak)\n",
    "(\\prod^{18}_{k \\ = \\ {15}}bk)\n",
    "-\n",
    "(\\prod^{10}_{k \\ = \\ {5}}xk)\n",
    "$$"
   ]
  },
  {
   "cell_type": "code",
   "execution_count": 13,
   "metadata": {},
   "outputs": [
    {
     "name": "stdout",
     "output_type": "stream",
     "text": [
      "4368681206323200\n"
     ]
    }
   ],
   "source": [
    "# answer 12\n",
    "x = 2\n",
    "a = 3\n",
    "b = 10\n",
    "\n",
    "total_ab = 1\n",
    "for k in range(15, 18 + 1):\n",
    "    total_ab *= (a * k) * (b * k)\n",
    "\n",
    "total_x = 1\n",
    "for k in range(5, 10 + 1):\n",
    "    total_x *= x * k\n",
    "  \n",
    "print(total_ab - total_x)"
   ]
  },
  {
   "cell_type": "markdown",
   "metadata": {},
   "source": [
    "**Exercise 13** Write code that computes the following value:\n",
    "$$\n",
    "\\prod^n_{i \\ = \\ 6}\n",
    "\\sum^n_{j \\ = \\ 1}x^i + j\n",
    "$$"
   ]
  },
  {
   "cell_type": "code",
   "execution_count": 14,
   "metadata": {},
   "outputs": [
    {
     "name": "stdout",
     "output_type": "stream",
     "text": [
      "1816170776495179646003402001652415511668816527021965636011786084375\n"
     ]
    }
   ],
   "source": [
    "# answer 13\n",
    "x = 34\n",
    "n = 10\n",
    "\n",
    "prod_total = 1\n",
    "for i in range(6, n + 1):\n",
    "    sum_total = 0\n",
    "    for j in range(1, n + 1):\n",
    "        sum_total += x ** i + j\n",
    "    prod_total *= sum_total\n",
    "print(prod_total)"
   ]
  },
  {
   "cell_type": "markdown",
   "metadata": {},
   "source": [
    "**Bonus exercise** Below we have provided you with a piece of code. Translate it to $\\sum$ and $\\prod$ notation in the final markdown cell using LaTeX:\n",
    "\n",
    "```Python\n",
    "\n",
    "total = 1\n",
    "for i in range(0, 14 + 1):\n",
    "    sum_total = 0\n",
    "    for j in range(0, N + 1):\n",
    "        sum_total += i ** i\n",
    "    total *= sum_total / N\n",
    "\n",
    "print(total)\n",
    "```"
   ]
  },
  {
   "cell_type": "markdown",
   "metadata": {},
   "source": [
    "Answer:\n",
    "\n",
    "$$\n",
    "\\prod^{14}_{k \\ = \\ 0}\\frac{\\sum^N_{i \\ = \\ 1} k^k}{N}\n",
    "$$"
   ]
  }
 ],
 "metadata": {
  "kernelspec": {
   "display_name": "Python 3 (ipykernel)",
   "language": "python",
   "name": "python3"
  },
  "language_info": {
   "codemirror_mode": {
    "name": "ipython",
    "version": 3
   },
   "file_extension": ".py",
   "mimetype": "text/x-python",
   "name": "python",
   "nbconvert_exporter": "python",
   "pygments_lexer": "ipython3",
   "version": "3.9.15"
  },
  "vscode": {
   "interpreter": {
    "hash": "aee8b7b246df8f9039afb4144a1f6fd8d2ca17a180786b69acc140d282b71a49"
   }
  }
 },
 "nbformat": 4,
 "nbformat_minor": 2
}
