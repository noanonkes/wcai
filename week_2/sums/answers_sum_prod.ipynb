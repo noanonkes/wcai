{
 "cells": [
  {
   "cell_type": "markdown",
   "metadata": {},
   "source": [
    "# Practice with sum and product\n",
    "\n",
    "In this notebook, you will practice with implementing mathematical equations that contain $\\sum$ and $\\prod$ in Python. In scientific programming these symbols are a regular occurance and getting familiar with the way they should be interpreted and can be programmed is important."
   ]
  },
  {
   "cell_type": "markdown",
   "metadata": {},
   "source": [
    "## Sum\n",
    "\n",
    "The symbol $\\sum$ (sigma) is used to denote the sum of multiple terms. For example, the sum of squares of the values $1$ to $6$ can be written as:\n",
    "\n",
    "$$\\sum^6_{n \\ = \\ 1} \\ n^2$$\n",
    "\n",
    "Where:\n",
    "\n",
    "- $\\sum$ indicates that we will be taking the sum of a set of terms\n",
    "- ${n \\ = \\ 1}$ refers to the first value of $n$ \n",
    "- The $6$ above the $\\sum$ indicates that the final value of $n$ will be $6$ \n",
    "- $n^2$ is the term that will be filled in and summed\n",
    "\n",
    "<img src=\"sum.png\" width=200/>\n"
   ]
  },
  {
   "cell_type": "markdown",
   "metadata": {},
   "source": [
    "We can calculate $\\sum^6_{n \\ = \\ 1} n^2$ as follows:\n",
    "\n",
    "$$\n",
    "\\sum^6_{n \\ = \\ 1} n^2\n",
    "\\\\ \n",
    "= 1^2 + 2^2 + 3^2 + 4^2 + 5^2 + 6^2\n",
    "\\\\ \n",
    "= 1 + 4 + 9 + 16 + 25 + 36\n",
    "\\\\\n",
    "= 91\n",
    "$$\n",
    "\n",
    "With the help of the `**` operator we can program a function that returns the result of the equation $\\sum^6_{n \\ = \\ 1}n^2$ in Python as follows:\n",
    "\n",
    "```Python\n",
    "def fun():\n",
    "    total = 0\n",
    "    for n in range(1, 6 + 1):\n",
    "        total += n ** 2\n",
    "    return total\n",
    "```\n",
    "\n",
    "Notice that the number above the sum indicating the final value is *inclusive*, while for a Python loop using `range()` this value is *exclusive*. We've explicitly added $6 + 1$ to show this in the code above.\n"
   ]
  },
  {
   "cell_type": "markdown",
   "metadata": {},
   "source": [
    "**Exercise 1** Define a function that accepts a parameter `x` and returns the result of the following equation:\n",
    "\n",
    " $$ x^2 + 4$$"
   ]
  },
  {
   "cell_type": "code",
   "execution_count": 1,
   "metadata": {},
   "outputs": [],
   "source": [
    "# answer 1\n",
    "def fun1(x):\n",
    "    return x ** 2 + 4"
   ]
  },
  {
   "cell_type": "markdown",
   "metadata": {},
   "source": [
    "**Exercise 2** Define a function that accepts the parameters `x`, `a`, and `b` and returns the result of the following equation:\n",
    "\n",
    "$$\n",
    "x^3 + ab\n",
    "$$"
   ]
  },
  {
   "cell_type": "code",
   "execution_count": 36,
   "metadata": {},
   "outputs": [],
   "source": [
    "# answer 2\n",
    "def fun2(x, a, b):\n",
    "    x ** 3 + a * b"
   ]
  },
  {
   "cell_type": "markdown",
   "metadata": {},
   "source": [
    "**Exercise 3** Define a function that calculates the following sum:\n",
    "\n",
    "$$\n",
    "\\sum ^5_{i \\ = \\ 1} 4\n",
    "$$"
   ]
  },
  {
   "cell_type": "code",
   "execution_count": 2,
   "metadata": {},
   "outputs": [],
   "source": [
    "# answer 3\n",
    "def fun3():\n",
    "    total = 0\n",
    "    for i in range(1, 5 + 1):\n",
    "        total += 4\n",
    "    return total"
   ]
  },
  {
   "cell_type": "markdown",
   "metadata": {},
   "source": [
    "**Exercise 4** Define a function that calculates the following sum:\n",
    "\n",
    "$$\n",
    "\\sum ^5_{n \\ = \\ 1} 7n\n",
    "$$"
   ]
  },
  {
   "cell_type": "code",
   "execution_count": 10,
   "metadata": {},
   "outputs": [],
   "source": [
    "# answer 4\n",
    "def fun4():\n",
    "    total = 0\n",
    "    for n in range(1, 5 + 1):\n",
    "        total += 7 * n\n",
    "    return total"
   ]
  },
  {
   "cell_type": "markdown",
   "metadata": {},
   "source": [
    "**Exercise 5** Define a function that accepts the parameters `N` and `x` and calculates the following sum:\n",
    "$$\n",
    "\\sum ^N_{n \\ = \\ 4}\\ x + 6\n",
    "$$"
   ]
  },
  {
   "cell_type": "code",
   "execution_count": 39,
   "metadata": {},
   "outputs": [],
   "source": [
    "# answer 5\n",
    "def fun5(N, x):\n",
    "    total = 0\n",
    "    for n in range(4, N + 1):\n",
    "        total += x + 6\n",
    "    return total"
   ]
  },
  {
   "cell_type": "markdown",
   "metadata": {},
   "source": [
    "**Exercise 6** _From this exercise onwards, we will no longer provide you with the parameters for the function._ Inspect the equation and determine which parameters are needed, then define a function that calculates the following sum:\n",
    "$$\n",
    "\\sum^N_{b \\ = \\ 2} xb\n",
    "$$"
   ]
  },
  {
   "cell_type": "code",
   "execution_count": 3,
   "metadata": {},
   "outputs": [],
   "source": [
    "# answer 6\n",
    "def fun6(N, x):\n",
    "    total = 0\n",
    "    for b in range(2, N + 1):\n",
    "        total += b * x\n",
    "    return total"
   ]
  },
  {
   "cell_type": "markdown",
   "metadata": {},
   "source": [
    "**Exercise 7** Define a function that calculates the following sum:\n",
    "\n",
    "$$\n",
    "\\sum^3_{n \\ = \\ 0 }(\\frac{n}{4})\n",
    "$$"
   ]
  },
  {
   "cell_type": "code",
   "execution_count": 11,
   "metadata": {},
   "outputs": [],
   "source": [
    "# answer 7\n",
    "def fun7():\n",
    "    total = 0\n",
    "    for n in range(0, 3 + 1):\n",
    "        total += (n / 4)\n",
    "    return total"
   ]
  },
  {
   "cell_type": "markdown",
   "metadata": {},
   "source": [
    "**Exercise 8** Define a function that calculates the following sum:\n",
    "\n",
    "$$\n",
    "\\sum^N_{i \\ = \\ 6 }\\sum^N_{j \\ = \\ 1 }x^i + j\n",
    "$$"
   ]
  },
  {
   "cell_type": "code",
   "execution_count": 5,
   "metadata": {},
   "outputs": [],
   "source": [
    "# answer 8\n",
    "def fun8(N, x):\n",
    "    total = 0\n",
    "    for i in range(6, N + 1):\n",
    "        for j in range(1, N + 1):\n",
    "            total += x ** i + j\n",
    "        \n",
    "    return total"
   ]
  },
  {
   "cell_type": "markdown",
   "metadata": {},
   "source": [
    "## Product\n",
    "\n",
    "The symbol $\\prod$ (pi) indicates repeated multiplication and refers to a product of multiple factors.\n",
    "\n",
    "The notation is quite similar to the previously discussed sigma notation, except that the pi notation describes a *factor* number instead of a term number. \n",
    "\n",
    "Let's look at an example:\n",
    "\n",
    "$$\n",
    "\\prod^6_{k \\ = \\ 3}2^k\n",
    "$$\n",
    "\n",
    "Where:\n",
    "\n",
    "- $\\prod$ indicates that we will be taking the product of a set of terms\n",
    "- ${k \\ = \\ 3}$ refers to the first value of $k$\n",
    "- The $6$ above the $\\prod$ indicates that the final value of $k$ will be $6$ \n",
    "- $2^k$ is the term that will be filled in and multiplied\n",
    "\n",
    "<img src=\"product.png\" width=200/>\n",
    "\n",
    "We can calculate $\\prod^6_{k \\ = \\ 3}2^k$ as follows:\n",
    "\n",
    "$$\n",
    "\\prod^6_{k \\ = \\ 3}2^k\n",
    "\\\\\n",
    "= (2^3)(2^4)(2^5)(2^6)\n",
    "\\\\\n",
    "= 262144\n",
    "$$\n",
    "\n",
    "In Python we could calculate $\\prod^6_{k \\ = \\ 3}2^k$ as follows:\n",
    "\n",
    "```Python\n",
    "def fun():\n",
    "    total = 1\n",
    "    for i in range(3, 6 + 1, 1):\n",
    "        total *= 2 ** i   \n",
    "    return total\n",
    "```\n",
    "\n",
    "Notice, that we initialise `total` at 1. Do you understand why?"
   ]
  },
  {
   "cell_type": "markdown",
   "metadata": {},
   "source": [
    "**Exercise 9** Define a function that calculates the following product:\n",
    "\n",
    "$$ \n",
    "\\prod^{10}_{k \\ = \\ 7} \n",
    "k\n",
    "$$"
   ]
  },
  {
   "cell_type": "code",
   "execution_count": 17,
   "metadata": {},
   "outputs": [],
   "source": [
    "# answer 9\n",
    "def fun9():\n",
    "    total = 1\n",
    "    for k in range(7, 10 + 1):\n",
    "        total *= k\n",
    "    return total"
   ]
  },
  {
   "cell_type": "markdown",
   "metadata": {},
   "source": [
    "**Exercise 10** Define a function that calculates the following product:\n",
    "\n",
    "$$\n",
    "\\prod^3_{i \\ = \\ 1}(i + x)\n",
    "$$"
   ]
  },
  {
   "cell_type": "code",
   "execution_count": 18,
   "metadata": {},
   "outputs": [],
   "source": [
    "# answer 10\n",
    "def fun10(x):\n",
    "    total = 1\n",
    "    for i in range(1, 3 + 1):\n",
    "        total *= i + x\n",
    "    return total"
   ]
  },
  {
   "cell_type": "markdown",
   "metadata": {},
   "source": [
    "**Exercise 11** Define a function that calculates the following product:\n",
    "\n",
    "$$\n",
    "\\prod^2_{c \\ = \\ 1}(3c^2) + (3c^3) + (3c^4)\n",
    "$$\n",
    "\n",
    "**Extra challenge** Can you use a sigma to simplify this equation?"
   ]
  },
  {
   "cell_type": "code",
   "execution_count": 19,
   "metadata": {},
   "outputs": [],
   "source": [
    "# answer 11\n",
    "def fun11():\n",
    "    total = 1\n",
    "    for i in range(1, 2 + 1):\n",
    "        total *= (3 * i) ** 2 + (3 * i) ** 3 + (3 * i) ** 4\n",
    "    return total"
   ]
  },
  {
   "cell_type": "markdown",
   "metadata": {},
   "source": [
    "**Exercise 12** Define a function that calculates the product:\n",
    "\n",
    "$$\n",
    "(\\prod^{18}_{k \\ = \\ {15}}ak)\n",
    "(\\prod^{18}_{k \\ = \\ {15}}bk)\n",
    "-\n",
    "(\\prod^{10}_{k \\ = \\ {5}}xk)\n",
    "$$"
   ]
  },
  {
   "cell_type": "code",
   "execution_count": 20,
   "metadata": {},
   "outputs": [],
   "source": [
    "# answer 12\n",
    "def fun12(x, a, b):\n",
    "    total_ab = 1\n",
    "    for k in range(15, 18 + 1):\n",
    "        total_ab *= (a * k) * (b * k)\n",
    "\n",
    "    total_x = 1\n",
    "    for k in range(5, 10 + 1):\n",
    "        total_x *= x * k\n",
    "    \n",
    "    return total_ab - total_x"
   ]
  },
  {
   "cell_type": "markdown",
   "metadata": {},
   "source": [
    "**Exercise 13** Define a function that calculates the following product:\n",
    "\n",
    "$$\n",
    "\\prod^7_{f \\ = \\ 2}(\\frac{f - 1}{f})\n",
    "$$"
   ]
  },
  {
   "cell_type": "code",
   "execution_count": 24,
   "metadata": {},
   "outputs": [],
   "source": [
    "# answer 13\n",
    "def fun13():\n",
    "    total = 1\n",
    "    for f in range(2, 7 + 1):\n",
    "        total *= (f - 1) / f\n",
    "\n",
    "    return total\n"
   ]
  },
  {
   "cell_type": "markdown",
   "metadata": {},
   "source": [
    "**Exercise 14** Define a function that computes the following value:\n",
    "$$\n",
    "\\prod^N_{i \\ = \\ 6}\n",
    "\\sum^N_{j \\ = \\ 1}x^i + j\n",
    "$$"
   ]
  },
  {
   "cell_type": "code",
   "execution_count": 25,
   "metadata": {},
   "outputs": [],
   "source": [
    "# answer 14\n",
    "def fun14(N, x):\n",
    "    prod_total = 1\n",
    "    for i in range(6, N + 1):\n",
    "        sum_total = 0\n",
    "        for j in range(1, N + 1):\n",
    "            sum_total += x ** i + j\n",
    "        prod_total *= sum_total\n",
    "    return prod_total"
   ]
  },
  {
   "cell_type": "markdown",
   "metadata": {},
   "source": [
    "**Bonus exercise** Below we have provided you with a piece of code. Translate it to $\\sum$ and $\\prod$ notation in the final markdown cell using LaTeX:\n",
    "\n",
    "```Python\n",
    "def bonus_1(N):\n",
    "    total = 1\n",
    "    for i in range(0, 14 + 1):\n",
    "        sum_total = 0\n",
    "        for j in range(0, N + 1):\n",
    "            sum_total += i ** i\n",
    "        total *= sum_total / N\n",
    "\n",
    "    return total \n",
    "```"
   ]
  },
  {
   "cell_type": "markdown",
   "metadata": {},
   "source": [
    "Answer:\n",
    "\n",
    "$$\n",
    "\\prod^{14}_{k \\ = \\ 0}\\frac{\\sum^N_{i \\ = \\ 1} k^k}{N}\n",
    "$$"
   ]
  }
 ],
 "metadata": {
  "kernelspec": {
   "display_name": "Python 3 (ipykernel)",
   "language": "python",
   "name": "python3"
  },
  "language_info": {
   "codemirror_mode": {
    "name": "ipython",
    "version": 3
   },
   "file_extension": ".py",
   "mimetype": "text/x-python",
   "name": "python",
   "nbconvert_exporter": "python",
   "pygments_lexer": "ipython3",
   "version": "3.7.11"
  },
  "vscode": {
   "interpreter": {
    "hash": "aee8b7b246df8f9039afb4144a1f6fd8d2ca17a180786b69acc140d282b71a49"
   }
  }
 },
 "nbformat": 4,
 "nbformat_minor": 2
}
