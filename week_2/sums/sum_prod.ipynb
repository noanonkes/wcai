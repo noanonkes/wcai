{
 "cells": [
  {
   "cell_type": "markdown",
   "metadata": {},
   "source": [
    "# Practice with sum and product\n",
    "\n",
    "In this notebook, you will practice with implementing mathematical equations that contain $\\sum$ and $\\prod$ in Python. In scientific programming these symbols are a regular occurance and getting familiar with the way they should be interpreted and can be programmed is important."
   ]
  },
  {
   "cell_type": "markdown",
   "metadata": {},
   "source": [
    "## Sum\n",
    "\n",
    "The symbol $\\sum$ (sigma) is used to denote the sum of multiple terms. For example, the sum of squares of the values $1$ to $6$ can be written as:\n",
    "\n",
    "$$\\sum^6_{n \\ = \\ 1} \\ n^2$$\n",
    "\n",
    "Where:\n",
    "\n",
    "- $\\sum$ indicates that we will be taking the sum of a set of terms\n",
    "- ${n \\ = \\ 1}$ refers to the first value of $n$ \n",
    "- The $6$ above the $\\sum$ indicates that the final value of $n$ will be $6$ \n",
    "- $n^2$ is the term that will be filled in and summed\n",
    "\n",
    "<img src=\"sum.png\" width=200/>\n"
   ]
  },
  {
   "cell_type": "markdown",
   "metadata": {},
   "source": [
    "We can calculate $\\sum^6_{n \\ = \\ 1} n^2$ as follows:\n",
    "\n",
    "$$\n",
    "\\sum^6_{n \\ = \\ 1} n^2\n",
    "\\\\ \n",
    "= 1^2 + 2^2 + 3^2 + 4^2 + 5^2 + 6^2\n",
    "\\\\ \n",
    "= 1 + 4 + 9 + 16 + 25 + 36\n",
    "\\\\\n",
    "= 91\n",
    "$$\n",
    "\n",
    "With the help of the `**` operator we can program a function that returns the result of the equation $\\sum^6_{n \\ = \\ 1}n^2$ in Python as follows:\n",
    "\n",
    "```Python\n",
    "def fun():\n",
    "    total = 0\n",
    "    for n in range(1, 6 + 1):\n",
    "        total += n ** 2\n",
    "    return total\n",
    "```\n",
    "\n",
    "Notice that the number above the sum indicating the final value is *inclusive*, while for a Python loop using `range()` this value is *exclusive*. We've explicitly added $6 + 1$ to show this in the code above.\n"
   ]
  },
  {
   "cell_type": "markdown",
   "metadata": {},
   "source": [
    "**Exercise 1** Define a function that accepts a parameter `x` and returns the result of the following equation:\n",
    "\n",
    " $$ x^2 + 4$$"
   ]
  },
  {
   "cell_type": "code",
   "execution_count": 1,
   "metadata": {},
   "outputs": [],
   "source": [
    "# Your solution here"
   ]
  },
  {
   "cell_type": "markdown",
   "metadata": {},
   "source": [
    "**Exercise 2** Define a function that accepts the parameters `x`, `a`, and `b` and returns the result of the following equation:\n",
    "\n",
    "$$\n",
    "x^3 + ab\n",
    "$$"
   ]
  },
  {
   "cell_type": "code",
   "execution_count": null,
   "metadata": {},
   "outputs": [],
   "source": [
    "# Your solution here"
   ]
  },
  {
   "cell_type": "markdown",
   "metadata": {},
   "source": [
    "**Exercise 3** Define a function that calculates the following sum:\n",
    "\n",
    "$$\n",
    "\\sum ^5_{i \\ = \\ 1} 4\n",
    "$$"
   ]
  },
  {
   "cell_type": "code",
   "execution_count": 2,
   "metadata": {},
   "outputs": [],
   "source": [
    "# Your solution here"
   ]
  },
  {
   "cell_type": "markdown",
   "metadata": {},
   "source": [
    "**Exercise 4** Define a function that calculates the following sum:\n",
    "\n",
    "$$\n",
    "\\sum ^5_{n \\ = \\ 1} 7n\n",
    "$$"
   ]
  },
  {
   "cell_type": "code",
   "execution_count": 10,
   "metadata": {},
   "outputs": [],
   "source": [
    "# Your solution here"
   ]
  },
  {
   "cell_type": "markdown",
   "metadata": {},
   "source": [
    "**Exercise 5** Define a function that accepts the parameters `N` and `x` and calculates the following sum:\n",
    "$$\n",
    "\\sum ^N_{n \\ = \\ 4}\\ x + 6\n",
    "$$"
   ]
  },
  {
   "cell_type": "code",
   "execution_count": 39,
   "metadata": {},
   "outputs": [],
   "source": [
    "# Your solution here"
   ]
  },
  {
   "cell_type": "markdown",
   "metadata": {},
   "source": [
    "### Sums in Machine Learning\n",
    "\n",
    "In Machine Learning you will often come across a slightly different sum equation, wherein variable values are taken from a list-like structure. These structures are actually named vectors, or matrices, but you will learn about those in a couple of weeks. For now, all that is important is that they function in much the same way as lists. An equation with a sum might look like this:\n",
    "\n",
    "$$ \\sum^N_i x_i $$\n",
    "\n",
    "Wherein $x$ is a list of length $N$, and $i$ is the index of an element in the list $x$. The equation above sums all elements in a list named $x$. _Note that the start value of $i$ is not given. When this is the case, you can assume the first value to be 1._\n",
    "\n",
    "The equivalent given a list of values named `x` in code looks as follows:\n",
    "\n",
    "```python\n",
    "x = [12, 5, 3, 27, 432]\n",
    "\n",
    "def fun(x):\n",
    "    N = len(x)\n",
    "    total = 0\n",
    "    \n",
    "    for i in range(N):\n",
    "        total += x[i]\n",
    "        \n",
    "    return total\n",
    "```\n",
    "\n",
    "_**A very important thing to note here, is that while indexing in maths generally starts at 1, indexing in Python starts with 0.**_ This is reflected in the code above, where the first value of `i` is `0`, and the last value `N - 1`, while the equation starts at $i=1$ and the value $N$ is inclusive."
   ]
  },
  {
   "cell_type": "markdown",
   "metadata": {},
   "source": [
    "**Exercise 6** _From this exercise onwards, we will no longer provide you with the parameters for the function._ Inspect the equation and determine which parameters are needed, then define a function that calculates the following sum:\n",
    "$$\n",
    "\\frac{1}{N} \\sum^N_{b} x_b\n",
    "$$"
   ]
  },
  {
   "cell_type": "code",
   "execution_count": 4,
   "metadata": {},
   "outputs": [],
   "source": [
    "# Your solution here"
   ]
  },
  {
   "cell_type": "markdown",
   "metadata": {},
   "source": [
    "**Exercise 7** Define a function that calculates the following sum:\n",
    "\n",
    "$$\n",
    "\\sum^N_{i}(x_i * y_i)\n",
    "$$"
   ]
  },
  {
   "cell_type": "code",
   "execution_count": 5,
   "metadata": {},
   "outputs": [],
   "source": [
    "# Your solution here"
   ]
  },
  {
   "cell_type": "markdown",
   "metadata": {},
   "source": [
    "**Exercise 8** Define a function that calculates the following sum:\n",
    "\n",
    "$$\n",
    "\\sum^N_{i}\\sum^N_{j}x_i + x_j\n",
    "$$"
   ]
  },
  {
   "cell_type": "code",
   "execution_count": 7,
   "metadata": {},
   "outputs": [],
   "source": [
    "# Your solution here"
   ]
  },
  {
   "cell_type": "markdown",
   "metadata": {},
   "source": [
    "## Product\n",
    "\n",
    "The symbol $\\prod$ (pi) indicates repeated multiplication and refers to a product of multiple factors.\n",
    "\n",
    "The notation is quite similar to the previously discussed sigma notation, except that the pi notation describes a *factor* number instead of a term number. \n",
    "\n",
    "Let's look at an example:\n",
    "\n",
    "$$\n",
    "\\prod^6_{k \\ = \\ 3}2^k\n",
    "$$\n",
    "\n",
    "Where:\n",
    "\n",
    "- $\\prod$ indicates that we will be taking the product of a set of terms\n",
    "- ${k \\ = \\ 3}$ refers to the first value of $k$\n",
    "- The $6$ above the $\\prod$ indicates that the final value of $k$ will be $6$ \n",
    "- $2^k$ is the term that will be filled in and multiplied\n",
    "\n",
    "<img src=\"product.png\" width=200/>\n",
    "\n",
    "We can calculate $\\prod^6_{k \\ = \\ 3}2^k$ as follows:\n",
    "\n",
    "$$\n",
    "\\prod^6_{k \\ = \\ 3}2^k\n",
    "\\\\\n",
    "= (2^3)(2^4)(2^5)(2^6)\n",
    "\\\\\n",
    "= 262144\n",
    "$$\n",
    "\n",
    "In Python we could calculate $\\prod^6_{k \\ = \\ 3}2^k$ as follows:\n",
    "\n",
    "```Python\n",
    "def fun():\n",
    "    total = 1\n",
    "    for i in range(3, 6 + 1):\n",
    "        total *= 2 ** i   \n",
    "    return total\n",
    "```\n",
    "\n",
    "Notice that we initialise `total` at 1. Do you understand why?"
   ]
  },
  {
   "cell_type": "markdown",
   "metadata": {},
   "source": [
    "**Exercise 9** Define a function that calculates the following product:\n",
    "\n",
    "$$ \n",
    "\\prod^{10}_{k \\ = \\ 7} \n",
    "k\n",
    "$$"
   ]
  },
  {
   "cell_type": "code",
   "execution_count": 17,
   "metadata": {},
   "outputs": [],
   "source": [
    "# Your solution here"
   ]
  },
  {
   "cell_type": "markdown",
   "metadata": {},
   "source": [
    "**Exercise 10** Define a function that calculates the following product:\n",
    "\n",
    "$$\n",
    "\\prod^N_{i}x_i\n",
    "$$"
   ]
  },
  {
   "cell_type": "code",
   "execution_count": 8,
   "metadata": {},
   "outputs": [],
   "source": [
    "# Your solution here"
   ]
  },
  {
   "cell_type": "markdown",
   "metadata": {},
   "source": [
    "**Exercise 11** Define a function that calculates the following product:\n",
    "\n",
    "$$\n",
    "\\prod^N_i(3c_i^2) + (3c_i^3) + (3c_i^4)\n",
    "$$\n",
    "\n",
    "**Extra challenge** Can you use a sigma to simplify this equation?"
   ]
  },
  {
   "cell_type": "code",
   "execution_count": 19,
   "metadata": {},
   "outputs": [],
   "source": [
    "# Your solution here"
   ]
  },
  {
   "cell_type": "markdown",
   "metadata": {},
   "source": [
    "**Exercise 12** Define a function that calculates the product:\n",
    "\n",
    "$$\n",
    "(\\prod^{18}_{k \\ = \\ {15}}ak)\n",
    "(\\prod^{18}_{k \\ = \\ {15}}bk)\n",
    "-\n",
    "(\\prod^{10}_{k \\ = \\ {5}}xk)\n",
    "$$"
   ]
  },
  {
   "cell_type": "code",
   "execution_count": 20,
   "metadata": {},
   "outputs": [],
   "source": [
    "# Your solution here"
   ]
  },
  {
   "cell_type": "markdown",
   "metadata": {},
   "source": [
    "**Exercise 13** Define a function that computes the following value:\n",
    "$$\n",
    "\\prod^N_{i \\ = \\ 6}\n",
    "\\sum^N_{j \\ = \\ 1}x^i + j\n",
    "$$"
   ]
  },
  {
   "cell_type": "code",
   "execution_count": 9,
   "metadata": {},
   "outputs": [],
   "source": [
    "# Your solution here"
   ]
  },
  {
   "cell_type": "markdown",
   "metadata": {},
   "source": [
    "**Bonus exercise** Below we have provided you with a piece of code. Translate it to $\\sum$ and $\\prod$ notation in the final markdown cell using LaTeX:\n",
    "\n",
    "```Python\n",
    "def bonus_1(N):\n",
    "    total = 1\n",
    "    for i in range(0, 14 + 1):\n",
    "        sum_total = 0\n",
    "        for j in range(0, N + 1):\n",
    "            sum_total += i ** i\n",
    "        total *= sum_total / N\n",
    "\n",
    "    return total \n",
    "```"
   ]
  },
  {
   "cell_type": "markdown",
   "metadata": {},
   "source": [
    "_Your answer here_"
   ]
  }
 ],
 "metadata": {
  "kernelspec": {
   "display_name": "Python 3 (ipykernel)",
   "language": "python",
   "name": "python3"
  },
  "language_info": {
   "codemirror_mode": {
    "name": "ipython",
    "version": 3
   },
   "file_extension": ".py",
   "mimetype": "text/x-python",
   "name": "python",
   "nbconvert_exporter": "python",
   "pygments_lexer": "ipython3",
   "version": "3.7.11"
  },
  "vscode": {
   "interpreter": {
    "hash": "aee8b7b246df8f9039afb4144a1f6fd8d2ca17a180786b69acc140d282b71a49"
   }
  }
 },
 "nbformat": 4,
 "nbformat_minor": 2
}
